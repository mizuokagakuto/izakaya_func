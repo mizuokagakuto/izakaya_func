{
 "cells": [
  {
   "cell_type": "code",
   "execution_count": 21,
   "metadata": {},
   "outputs": [],
   "source": [
    "#データの整形\n",
    "import pandas as pd\n",
    "\n",
    "df = pd.read_excel('fukuoka_izakaya_all.xlsx')\n",
    "#写真のみの口コミを削除\n",
    "df = df.drop_duplicates(subset='review')\n",
    "#df = df.drop_duplicates(subset='store_name')\n",
    "#抽出できた正味の口コミ数を再集計\n",
    "df['pickup_review_count'] = df.groupby('store_id')['store_id'].transform('size')\n",
    "#口コミ３０以下は削除\n",
    "df = df[df['pickup_review_count'] >= 30].reset_index(drop=True)\n",
    "#投資番号再振り分け\n",
    "df['store_id_re'] = df.groupby('store_id').ngroup() + 1\n",
    "#print(df.head())\n",
    "df.to_excel(\"fukuoka_izakaya.xlsx\",index=False)"
   ]
  },
  {
   "cell_type": "code",
   "execution_count": 22,
   "metadata": {},
   "outputs": [],
   "source": [
    "df = pd.read_excel('fukuoka_izakaya.xlsx')\n",
    "df = df.drop_duplicates(subset='store_name')\n",
    "df.to_excel(\"a.xlsx\")"
   ]
  },
  {
   "cell_type": "code",
   "execution_count": 1,
   "metadata": {},
   "outputs": [],
   "source": [
    "#リンク用のデータの整形\n",
    "import pandas as pd\n",
    "\n",
    "df = pd.read_excel('fukuokacity_izakaya_link.xlsx')\n",
    "df = df.drop_duplicates(subset='store_name')\n",
    "df.to_excel(\"fukuoka_izakaya_link.xlsx\",index=False)"
   ]
  },
  {
   "cell_type": "code",
   "execution_count": 3,
   "metadata": {},
   "outputs": [],
   "source": [
    "#写真URLと他のデータの合成+\n",
    "import pandas as pd\n",
    "\n",
    "# ファイルの読み込み\n",
    "df1 = pd.read_excel(\"merged_file.xlsx\")\n",
    "df2 = pd.read_excel(\"fukuoka_izakaya_link.xlsx\")\n",
    "\n",
    "# \"store_name\"で結合し、\"picture_url\"の値をコピー\n",
    "merged_df = pd.merge(df1, df2[['store_name', 'link_url']], on=\"store_name\", how=\"left\", suffixes=('', '_from_df2'))\n",
    "#merged_df['picture_url'] = merged_df['picture_url'].combine_first(merged_df['picture_url_from_df2'])\n",
    "#merged_df = merged_df.drop(columns=['picture_url_from_df2'])\n",
    "\n",
    "# 結果を保存\n",
    "merged_df.to_excel(\"merged_file2.xlsx\", index=False)"
   ]
  }
 ],
 "metadata": {
  "kernelspec": {
   "display_name": "lang37",
   "language": "python",
   "name": "python3"
  },
  "language_info": {
   "codemirror_mode": {
    "name": "ipython",
    "version": 3
   },
   "file_extension": ".py",
   "mimetype": "text/x-python",
   "name": "python",
   "nbconvert_exporter": "python",
   "pygments_lexer": "ipython3",
   "version": "3.7.16"
  }
 },
 "nbformat": 4,
 "nbformat_minor": 2
}
