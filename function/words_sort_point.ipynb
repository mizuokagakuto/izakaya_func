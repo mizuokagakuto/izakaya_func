{
 "cells": [
  {
   "cell_type": "code",
   "execution_count": 11,
   "metadata": {},
   "outputs": [],
   "source": [
    "import pandas as pd\n",
    "import numpy as np"
   ]
  },
  {
   "cell_type": "code",
   "execution_count": null,
   "metadata": {},
   "outputs": [],
   "source": []
  },
  {
   "cell_type": "code",
   "execution_count": null,
   "metadata": {},
   "outputs": [],
   "source": [
    "# 口コミデータ\n",
    "df = pd.read_csv('fukuoka_izakaya.csv')\n",
    "# データの先頭を確認\n",
    "print(df.head())"
   ]
  },
  {
   "cell_type": "code",
   "execution_count": 48,
   "metadata": {},
   "outputs": [],
   "source": [
    "pickupwords = [\n",
    "    [\"良い\",\"おすすめ\",\"楽しい\"],#,\"大満足\"],#口コミ満足指数\n",
    "    [\"思っていたより\"],#実際と違った指数\n",
    "    [\"オシャレ\",\"おしゃれ\",\"お洒落\",\"雰囲気の良い\",\"映え\"],#おしゃれ指数\n",
    "    [\"静かな\",\"落ち着いた\"],#落着き指数\n",
    "    [\"明るい\",\"元気\",\"奇策\"]#サービス指数\n",
    "]#後々言葉や新たな指数は改良しないと"
   ]
  },
  {
   "cell_type": "code",
   "execution_count": null,
   "metadata": {},
   "outputs": [],
   "source": [
    "parameter_num = len(pickupwords)\n",
    "words_num = [len(pickupwords[i]) for i in range(parameter_num)]#各指標の基準単語数をリストで出力\n",
    "print(words_num)#debag"
   ]
  },
  {
   "cell_type": "code",
   "execution_count": 60,
   "metadata": {},
   "outputs": [
    {
     "name": "stdout",
     "output_type": "stream",
     "text": [
      "[3, 1, 5, 2, 3]\n"
     ]
    }
   ],
   "source": [
    "all_reviews = \" \".join(df[\"review\"].astype(str))\n",
    "\n",
    "# 特定の語句を含む口コミに得点を付与する（例：'良い' と 'おすすめ' を含む場合に得点付与）\n",
    "def assign_score(review,parameter_num,words_num,pickupwords):\n",
    "    scores = []\n",
    "    review = str(review)\n",
    "    for i in range(parameter_num):\n",
    "        score = 0\n",
    "        for j in range(words_num[i]):\n",
    "            #print(words_num[i])\n",
    "            if pickupwords[i][j] in review:\n",
    "                #print(pickupwords[i][j])\n",
    "                score += 1\n",
    "        scores.append(score)\n",
    "    return scores\n",
    "\n",
    "# 各口コミに対してスコアを計算しリストに保存\n",
    "scores = assign_score(all_reviews, parameter_num, words_num, pickupwords)\n",
    "\n",
    "\n",
    "# スコアの確認\n",
    "print(scores)"
   ]
  },
  {
   "cell_type": "code",
   "execution_count": null,
   "metadata": {},
   "outputs": [
    {
     "name": "stdout",
     "output_type": "stream",
     "text": [
      "[9900, 40, 2259, 832, 814]\n"
     ]
    }
   ],
   "source": [
    "def count_words_in_text(text, pickupwords):\n",
    "    counts = []\n",
    "    for category in pickupwords:\n",
    "        category_count = 0\n",
    "        for word in category:\n",
    "            category_count += text.count(word)\n",
    "        counts.append(category_count)\n",
    "    return counts\n",
    "\n",
    "\n",
    "word_counts = count_words_in_text(all_reviews, pickupwords)\n",
    "\n",
    "print(word_counts)"
   ]
  },
  {
   "cell_type": "code",
   "execution_count": 1,
   "metadata": {},
   "outputs": [
    {
     "name": "stdout",
     "output_type": "stream",
     "text": [
      "     store_id   満足指数  違った指数  おしゃれ指数  落着き指数  サービス指数\n",
      "0           1  30289      0       3     48       4\n",
      "1           2  33141      0       1     13       5\n",
      "2           3  20867      0       0      2       5\n",
      "3           4  28168      3       0      2       4\n",
      "4           5  13889      0       0      2       1\n",
      "..        ...    ...    ...     ...    ...     ...\n",
      "595       596   8991      0       8     13       0\n",
      "596       597   6525      0       0      2       5\n",
      "597       598   5982      0       1      4       0\n",
      "598       599   6448      0       0      4       0\n",
      "599       600  12337      0      10     31       0\n",
      "\n",
      "[600 rows x 6 columns]\n"
     ]
    }
   ],
   "source": [
    "import pandas as pd\n",
    "\n",
    "# CSVファイルの読み込み\n",
    "df = pd.read_excel('fukuoka_izakaya_all.xlsx')\n",
    "\n",
    "# 指定キーワードのカテゴリごとのリスト\n",
    "pickupwords = [\n",
    "    [\"良い\", \"おすすめ\", \"楽しい\",\"絶品\",\"感動する味\",\"本当に美味しい\",\"味わい深い\",\"クセになる\",\"また行きたい\",\"おすすめ\",\"期待以上\",\"また食べたい\",\"\",\"また来たい\",\"何度でも通いたい\",\"最高\"], # 口コミ満足指数\n",
    "    [\"期待外れ\",\"期待していたほどではなかった\",\"味が濃すぎる\",\"思っていたより普通\",\"写真と違う\",\"値段に見合わない\", \"接客が雑に感じた\",\"雰囲気が少し違った\",\"落ち着けなかった\", \"コスパが悪い\",\"値段ほどの価値が感じられない\",\"ちょっと割高\",\"リピートはない\",\"リピなし\",\"もう来ません\",\"残念ながら普通でした\",\"特に印象に残らなかった\"], # 期待外れ指数\n",
    "    [\"オシャレ\", \"おしゃれ\", \"お洒落\", \"雰囲気の良い\",\"雰囲気が素敵\" \"映え\",\"洗練された\",\"スタイリッシュ\",\"インスタ映えする\",\"見た目も楽しめる\",\"まるでアートのよう\",\"色彩が美しい\",\"繊細な盛り付け\",\"食べるのがもったいない\",\"センスが良い\",\"コンセプトがしっかり\",\"細部までこだわり\",\"異国風\",\"別世界\",\"トレンド感\",], # おしゃれ指数\n",
    "    [\"静かな\", \"落ち着いた\",\"モダン\",\"落ち着いている\",\"落ち着ける\",\"大人の\",\"隠れ家\",\"まったり\",\"静か\",\"居心地が良い\",\"癒される\",\"シック\",\"ゆったり\",\"くつろげる\",\"まるで自宅\",\"静かに語り合える\",\n",
    "    \"自然と心が安らぐ\",\"癒し\",\"デート\",\"ひとりでも気軽\",\"少人数\",\"プライベート\",], # 落着き指数\n",
    "    [\"明るい\", \"元気\", \"奇策\",\"スタッフの対応が素晴らしい\",\"心地よい接客\",\"ホスピタリティが高い\",\"丁寧な対応\",\"丁寧な接客\",\"心配りが行き届いている\",\"フレンドリー\",\"笑顔が素敵\",\"親切な対応\",\"気配りが素晴らしい\",\"アットホーム\",\"細やかなサービス\",\"気を配ってくれる\",\"プロ意識を感じる\",\"サービスがスムーズ\",\"提供が早い\",\"どんな質問にも答えてくれる\",\"柔軟な対応\",\"リクエストに柔軟に応じてくれる\",\"おもてなしの心\",\"居心地が良い対応\",\"リラックスできる接客\",\"親身\",\"細かい要望にも対応\", \"温かい雰囲気\",\"子連れにも\",\"一人でも気軽に\",\"家族連れにぴったり\",\"柔らかい雰囲気\",\"お客様第一\"] # サービス指数\n",
    "]#チャットGPTで類義語検索\n",
    "\n",
    "df_grouped = df.groupby('store_id')['review'].apply(lambda reviews: ' '.join(reviews.astype(str))).reset_index()\n",
    "\n",
    "\n",
    "def count_words_in_text(text, pickupwords):\n",
    "    counts = []\n",
    "    for category in pickupwords:\n",
    "        category_count = sum(text.count(word) for word in category)\n",
    "        counts.append(category_count)\n",
    "    return counts\n",
    "\n",
    "\n",
    "df_grouped['word_counts'] = df_grouped['review'].apply(lambda text: count_words_in_text(text, pickupwords))\n",
    "\n",
    "\n",
    "category_labels = ['満足指数', '違った指数', 'おしゃれ指数', '落着き指数', 'サービス指数']\n",
    "df_counts = pd.DataFrame(df_grouped['word_counts'].tolist(), columns=category_labels)\n",
    "df_result = pd.concat([df_grouped['store_id'], df_counts], axis=1)\n",
    "\n",
    "\n",
    "print(df_result)\n",
    "df_result.to_csv(\"fukuoka_izakaya_point.csv\")"
   ]
  },
  {
   "cell_type": "code",
   "execution_count": 5,
   "metadata": {},
   "outputs": [
    {
     "data": {
      "text/html": [
       "<div>\n",
       "<style scoped>\n",
       "    .dataframe tbody tr th:only-of-type {\n",
       "        vertical-align: middle;\n",
       "    }\n",
       "\n",
       "    .dataframe tbody tr th {\n",
       "        vertical-align: top;\n",
       "    }\n",
       "\n",
       "    .dataframe thead th {\n",
       "        text-align: right;\n",
       "    }\n",
       "</style>\n",
       "<table border=\"1\" class=\"dataframe\">\n",
       "  <thead>\n",
       "    <tr style=\"text-align: right;\">\n",
       "      <th></th>\n",
       "      <th>store_id</th>\n",
       "      <th>満足指数</th>\n",
       "      <th>違った指数</th>\n",
       "      <th>おしゃれ指数</th>\n",
       "      <th>落着き指数</th>\n",
       "      <th>サービス指数</th>\n",
       "    </tr>\n",
       "  </thead>\n",
       "  <tbody>\n",
       "    <tr>\n",
       "      <th>37</th>\n",
       "      <td>38</td>\n",
       "      <td>53272</td>\n",
       "      <td>0</td>\n",
       "      <td>9</td>\n",
       "      <td>20</td>\n",
       "      <td>31</td>\n",
       "    </tr>\n",
       "    <tr>\n",
       "      <th>239</th>\n",
       "      <td>240</td>\n",
       "      <td>16845</td>\n",
       "      <td>0</td>\n",
       "      <td>2</td>\n",
       "      <td>4</td>\n",
       "      <td>26</td>\n",
       "    </tr>\n",
       "    <tr>\n",
       "      <th>253</th>\n",
       "      <td>254</td>\n",
       "      <td>26497</td>\n",
       "      <td>0</td>\n",
       "      <td>1</td>\n",
       "      <td>8</td>\n",
       "      <td>18</td>\n",
       "    </tr>\n",
       "    <tr>\n",
       "      <th>227</th>\n",
       "      <td>228</td>\n",
       "      <td>24196</td>\n",
       "      <td>0</td>\n",
       "      <td>0</td>\n",
       "      <td>17</td>\n",
       "      <td>18</td>\n",
       "    </tr>\n",
       "    <tr>\n",
       "      <th>220</th>\n",
       "      <td>221</td>\n",
       "      <td>36203</td>\n",
       "      <td>2</td>\n",
       "      <td>5</td>\n",
       "      <td>15</td>\n",
       "      <td>17</td>\n",
       "    </tr>\n",
       "  </tbody>\n",
       "</table>\n",
       "</div>"
      ],
      "text/plain": [
       "     store_id   満足指数  違った指数  おしゃれ指数  落着き指数  サービス指数\n",
       "37         38  53272      0       9     20      31\n",
       "239       240  16845      0       2      4      26\n",
       "253       254  26497      0       1      8      18\n",
       "227       228  24196      0       0     17      18\n",
       "220       221  36203      2       5     15      17"
      ]
     },
     "execution_count": 5,
     "metadata": {},
     "output_type": "execute_result"
    }
   ],
   "source": [
    "df_result = df_result.sort_values(by=\"サービス指数\",ascending = False)\n",
    "df_result.head()"
   ]
  }
 ],
 "metadata": {
  "kernelspec": {
   "display_name": "Python 3",
   "language": "python",
   "name": "python3"
  },
  "language_info": {
   "codemirror_mode": {
    "name": "ipython",
    "version": 3
   },
   "file_extension": ".py",
   "mimetype": "text/x-python",
   "name": "python",
   "nbconvert_exporter": "python",
   "pygments_lexer": "ipython3",
   "version": "3.12.0"
  }
 },
 "nbformat": 4,
 "nbformat_minor": 2
}
